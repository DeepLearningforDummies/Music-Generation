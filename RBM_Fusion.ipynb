{
 "cells": [
  {
   "cell_type": "code",
   "execution_count": 5,
   "metadata": {},
   "outputs": [
    {
     "name": "stderr",
     "output_type": "stream",
     "text": [
      "100%|██████████| 100/100 [00:13<00:00,  7.32it/s]\n"
     ]
    },
    {
     "name": "stdout",
     "output_type": "stream",
     "text": [
      "96 songs processed\n"
     ]
    }
   ],
   "source": [
    "import numpy as np\n",
    "import pandas as pd\n",
    "import msgpack\n",
    "import glob\n",
    "import tensorflow as tf\n",
    "from tensorflow.python.ops import control_flow_ops\n",
    "from tqdm import tqdm\n",
    "import midi_manipulation\n",
    "import os\n",
    "\n",
    "def get_songs(path):\n",
    "    files = glob.glob('{}/*.mid*'.format(path))\n",
    "    songs = []\n",
    "    for f in tqdm(files):\n",
    "        try:\n",
    "            song = np.array(midi_manipulation.midiToNoteStateMatrix(f))\n",
    "            if np.array(song).shape[0] > 50:\n",
    "                songs.append(song)\n",
    "        except Exception as e:\n",
    "            raise e\n",
    "    return songs\n",
    "\n",
    "\n",
    "songs = get_songs('music_fusion/')  \n",
    "print(\"{} songs processed\".format(len(songs)))\n",
    "\n",
    "lowest_note = midi_manipulation.lowerBound \n",
    "highest_note = midi_manipulation.upperBound \n",
    "note_range = highest_note - lowest_note  \n",
    "\n",
    "num_timesteps = 50  \n",
    "n_visible = 2 * note_range * num_timesteps  # visible layer.\n",
    "n_hidden = 50  \n",
    "\n",
    "num_epochs = 200  \n",
    "batch_size = 100  \n",
    "lr = tf.constant(0.005, tf.float32) \n",
    "\n",
    "x = tf.placeholder(tf.float32, [None, n_visible], name=\"x\")\n",
    "W = tf.Variable(tf.random_normal([n_visible, n_hidden], 0.01), name=\"W\")\n",
    "\n",
    "# biases for the visible and hidden layers\n",
    "bh = tf.Variable(tf.zeros([1, n_hidden], tf.float32, name=\"bh\"))\n",
    "bv = tf.Variable(tf.zeros([1, n_visible], tf.float32, name=\"bv\"))\n",
    "\n",
    "def sample(probs):\n",
    "    # Takes in a vector of probabilities, and returns a random vector of 0s and 1s sampled from the input vector\n",
    "    return tf.floor(probs + tf.random_uniform(tf.shape(probs), 0, 1))\n",
    "\n",
    "def gibbs_sample(k):\n",
    "    # Runs a k-step gibbs chain to sample from the probability distribution of the RBM defined by W, bh, bv\n",
    "    def gibbs_step(count, k, xk):\n",
    "        hk = sample(tf.sigmoid(tf.matmul(xk, W) + bh)) \n",
    "        xk = sample(tf.sigmoid(tf.matmul(hk, tf.transpose(W)) + bv)) \n",
    "        return count + 1, k, xk\n",
    "\n",
    "    ct = tf.constant(0) \n",
    "    [_, _, x_sample] = control_flow_ops.while_loop(lambda count, num_iter, *args: count < num_iter, gibbs_step, [ct, tf.constant(k), x])\n",
    "    x_sample = tf.stop_gradient(x_sample)\n",
    "    return x_sample\n",
    "\n",
    "x_sample = gibbs_sample(1)\n",
    "\n",
    "h = sample(tf.sigmoid(tf.matmul(x, W) + bh))\n",
    "h_sample = sample(tf.sigmoid(tf.matmul(x_sample, W) + bh))\n",
    "\n",
    "size_bt = tf.cast(tf.shape(x)[0], tf.float32)\n",
    "W_adder = tf.multiply(lr / size_bt, tf.subtract(tf.matmul(tf.transpose(x), h), tf.matmul(tf.transpose(x_sample), h_sample)))\n",
    "bv_adder = tf.multiply(lr / size_bt, tf.reduce_sum(tf.subtract(x, x_sample), 0, True))\n",
    "bh_adder = tf.multiply(lr / size_bt, tf.reduce_sum(tf.subtract(h, h_sample), 0, True))\n",
    "\n",
    "updt = [W.assign_add(W_adder), bv.assign_add(bv_adder), bh.assign_add(bh_adder)]"
   ]
  },
  {
   "cell_type": "code",
   "execution_count": 6,
   "metadata": {},
   "outputs": [
    {
     "name": "stderr",
     "output_type": "stream",
     "text": [
      "100%|██████████| 200/200 [03:04<00:00,  1.09it/s]\n"
     ]
    }
   ],
   "source": [
    "with tf.Session() as sess:\n",
    "    init = tf.global_variables_initializer()\n",
    "    sess.run(init)\n",
    "    \n",
    "    for epoch in tqdm(range(num_epochs)):\n",
    "        for song in songs:\n",
    "            song = np.array(song)\n",
    "            song = song[:int(np.floor(song.shape[0] // num_timesteps) * num_timesteps)]\n",
    "            song = np.reshape(song, [song.shape[0] // num_timesteps, song.shape[1] * num_timesteps])\n",
    "            \n",
    "            for i in range(1, len(song), batch_size):\n",
    "                tr_x = song[i:i + batch_size]\n",
    "                sess.run(updt, feed_dict={x: tr_x})\n",
    "\n",
    "    sample = gibbs_sample(1).eval(session=sess, feed_dict={x: np.zeros((10, n_visible))})\n",
    "    for i in range(sample.shape[0]):\n",
    "        if not any(sample[i, :]):\n",
    "            continue\n",
    "            \n",
    "        S = np.reshape(sample[i, :], (num_timesteps, 2 * note_range))\n",
    "        midi_manipulation.noteStateMatrixToMidi(S, \"out/generated_{}\".format(i))"
   ]
  },
  {
   "cell_type": "code",
   "execution_count": 7,
   "metadata": {
    "collapsed": true
   },
   "outputs": [],
   "source": [
    "import pretty_midi\n",
    "import numpy as np\n",
    "# For plotting\n",
    "import mir_eval.display\n",
    "import librosa.display\n",
    "import matplotlib.pyplot as plt\n",
    "%matplotlib inline\n",
    "import IPython.display"
   ]
  },
  {
   "cell_type": "code",
   "execution_count": 8,
   "metadata": {
    "collapsed": true
   },
   "outputs": [],
   "source": [
    "pm = pretty_midi.PrettyMIDI('out/generated_2.midi')"
   ]
  },
  {
   "cell_type": "code",
   "execution_count": 9,
   "metadata": {},
   "outputs": [
    {
     "data": {
      "image/png": "[encoded data removed]",
      "text/plain": [
       "<Figure size 864x288 with 1 Axes>"
      ]
     },
     "metadata": {},
     "output_type": "display_data"
    }
   ],
   "source": [
    "def plot_piano_roll(pm, start_pitch, end_pitch, fs=100):\n",
    "    \n",
    "    librosa.display.specshow(pm.get_piano_roll(fs)[start_pitch:end_pitch], hop_length=1, sr=fs, x_axis='time', y_axis='cqt_note',\n",
    "                             fmin=pretty_midi.note_number_to_hz(start_pitch))\n",
    "\n",
    "plt.figure(figsize=(12, 4))\n",
    "plot_piano_roll(pm, 24, 80)"
   ]
  },
  {
   "cell_type": "code",
   "execution_count": 10,
   "metadata": {},
   "outputs": [
    {
     "name": "stdout",
     "output_type": "stream",
     "text": [
      "There are 0 time signature changes\n",
      "There are 1 instruments\n",
      "Instrument has 51 notes\n"
     ]
    }
   ],
   "source": [
    "print('There are {} time signature changes'.format(len(pm.time_signature_changes)))\n",
    "print('There are {} instruments'.format(len(pm.instruments)))\n",
    "print('Instrument has {} notes'.format(len(pm.instruments[0].notes)))"
   ]
  },
  {
   "cell_type": "code",
   "execution_count": 11,
   "metadata": {},
   "outputs": [
    {
     "data": {
      "text/plain": [
       "Text(0,0.5,'Proportion')"
      ]
     },
     "execution_count": 11,
     "metadata": {},
     "output_type": "execute_result"
    },
    {
     "data": {
      "image/png": "[encoded data removed]",
      "text/plain": [
       "<Figure size 432x288 with 1 Axes>"
      ]
     },
     "metadata": {},
     "output_type": "display_data"
    }
   ],
   "source": [
    "# Plot a pitch class distribution - sort of a proxy for key\n",
    "plt.bar(np.arange(12), pm.get_pitch_class_histogram());\n",
    "plt.xticks(np.arange(12), ['C', '', 'D', '', 'E', 'F', '', 'G', '', 'A', '', 'B'])\n",
    "plt.xlabel('Note')\n",
    "plt.ylabel('Proportion')"
   ]
  },
  {
   "cell_type": "markdown",
   "metadata": {},
   "source": [
    "EVALUATING AGAINST THE ACTUAL SONG"
   ]
  },
  {
   "cell_type": "code",
   "execution_count": 13,
   "metadata": {
    "collapsed": true
   },
   "outputs": [],
   "source": [
    "pm1 = pretty_midi.PrettyMIDI('music_fusion/Durga.mid')"
   ]
  },
  {
   "cell_type": "code",
   "execution_count": 17,
   "metadata": {},
   "outputs": [
    {
     "data": {
      "image/png": "[encoded data removed]",
      "text/plain": [
       "<Figure size 864x288 with 1 Axes>"
      ]
     },
     "metadata": {},
     "output_type": "display_data"
    }
   ],
   "source": [
    "def plot_piano_roll(pm1, start_pitch, end_pitch, fs=100):\n",
    "    \n",
    "    # Use librosa's specshow function for displaying the piano roll\n",
    "    librosa.display.specshow(pm1.get_piano_roll(fs)[start_pitch:end_pitch],\n",
    "                             hop_length=1, sr=fs, x_axis='time', y_axis='cqt_note',\n",
    "                             fmin=pretty_midi.note_number_to_hz(start_pitch))\n",
    "\n",
    "plt.figure(figsize=(12, 4))\n",
    "plot_piano_roll(pm1, 24, 95)"
   ]
  },
  {
   "cell_type": "code",
   "execution_count": 18,
   "metadata": {},
   "outputs": [
    {
     "data": {
      "text/plain": [
       "Text(0,0.5,'Proportion')"
      ]
     },
     "execution_count": 18,
     "metadata": {},
     "output_type": "execute_result"
    },
    {
     "data": {
      "image/png": "[encoded data removed]",
      "text/plain": [
       "<Figure size 432x288 with 1 Axes>"
      ]
     },
     "metadata": {},
     "output_type": "display_data"
    }
   ],
   "source": [
    "# Plot a pitch class distribution - sort of a proxy for key\n",
    "plt.bar(np.arange(12), pm1.get_pitch_class_histogram());\n",
    "plt.xticks(np.arange(12), ['C', '', 'D', '', 'E', 'F', '', 'G', '', 'A', '', 'B'])\n",
    "plt.xlabel('Note')\n",
    "plt.ylabel('Proportion')"
   ]
  }
 ],
 "metadata": {
  "kernelspec": {
   "display_name": "Python 3",
   "language": "python",
   "name": "python3"
  },
  "language_info": {
   "codemirror_mode": {
    "name": "ipython",
    "version": 3
   },
   "file_extension": ".py",
   "mimetype": "text/x-python",
   "name": "python",
   "nbconvert_exporter": "python",
   "pygments_lexer": "ipython3",
   "version": "3.6.4"
  }
 },
 "nbformat": 4,
 "nbformat_minor": 2
}
